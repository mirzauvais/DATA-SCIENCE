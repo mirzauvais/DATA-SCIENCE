{
 "cells": [
  {
   "cell_type": "code",
   "execution_count": 3,
   "id": "515a5f6c-397e-44f4-b3cc-057c632f6362",
   "metadata": {},
   "outputs": [],
   "source": [
    "# Data Science Tools And Ecosystem"
   ]
  },
  {
   "cell_type": "markdown",
   "id": "5303eaf2-d000-41bf-b41b-a5143d8b58f9",
   "metadata": {},
   "source": [
    "In this notebook, Data Science Tools and Ecosystem are summarized."
   ]
  },
  {
   "cell_type": "markdown",
   "id": "ccf0468e-9884-45b0-9922-4b55ddf12fca",
   "metadata": {},
   "source": [
    "Some of the popular languages that Data Scientists use are:\n",
    "\n",
    "1. Python  \n",
    "2. R  \n",
    "3. SQL  \n",
    "4. Julia\n"
   ]
  },
  {
   "cell_type": "markdown",
   "id": "c460ac2f-8a1e-4ccc-abe4-eba27c773984",
   "metadata": {},
   "source": [
    "Some of the commonly used libraries used by Data Scientists include:\n",
    "\n",
    "1. Pandas  \n",
    "2. NumPy  \n",
    "3. ggplot2  \n",
    "4. Scikit-learn"
   ]
  },
  {
   "cell_type": "markdown",
   "id": "09073edf-4e65-4598-a279-e13281519849",
   "metadata": {},
   "source": [
    "| Data Science Tools     |\n",
    "|------------------------|\n",
    "| RStudio                |\n",
    "| Jupyter Notebook       |\n",
    "| Visual Studio Code     |"
   ]
  },
  {
   "cell_type": "markdown",
   "id": "9c979d94-ebf5-4cca-9c3e-9e330e935753",
   "metadata": {},
   "source": [
    "### Below are a few examples of evaluating arithmetic expressions in Python.\n"
   ]
  },
  {
   "cell_type": "code",
   "execution_count": 10,
   "id": "d95447a9-2125-4d63-9083-8e9d87a582be",
   "metadata": {},
   "outputs": [
    {
     "data": {
      "text/plain": [
       "17"
      ]
     },
     "execution_count": 10,
     "metadata": {},
     "output_type": "execute_result"
    }
   ],
   "source": [
    "# This is a simple arithmetic expression to multiply then add integers\n",
    "(3*4)+5\n"
   ]
  },
  {
   "cell_type": "code",
   "execution_count": 12,
   "id": "598e1d0a-1512-4c80-a10c-099984454ea2",
   "metadata": {},
   "outputs": [
    {
     "data": {
      "text/plain": [
       "3.3333333333333335"
      ]
     },
     "execution_count": 12,
     "metadata": {},
     "output_type": "execute_result"
    }
   ],
   "source": [
    "# This will convert 200 minutes to hours by dividing by 60\n",
    "200 / 60\n"
   ]
  },
  {
   "cell_type": "markdown",
   "id": "d5cee903-d93e-456c-9868-4d06f7efde8c",
   "metadata": {},
   "source": [
    "**Objectives:**\n",
    "\n",
    "- List popular languages for Data Science  \n",
    "- List commonly used libraries in Data Science  \n",
    "- Create tables and markdown in Jupyter Notebooks  \n",
    "- Evaluate arithmetic expressions in Python  \n",
    "- Understand basic tools used by Data Scientists\n"
   ]
  },
  {
   "cell_type": "markdown",
   "id": "d9994eca-fd50-4c5a-921b-6e1180d2af4c",
   "metadata": {},
   "source": [
    "## Author\n",
    "\n",
    "Mirza Uvais Beg\n"
   ]
  },
  {
   "cell_type": "code",
   "execution_count": null,
   "id": "3270d0e9-c76f-4736-8f7c-f8e78cf70ce0",
   "metadata": {},
   "outputs": [],
   "source": []
  }
 ],
 "metadata": {
  "kernelspec": {
   "display_name": "Python [conda env:base] *",
   "language": "python",
   "name": "conda-base-py"
  },
  "language_info": {
   "codemirror_mode": {
    "name": "ipython",
    "version": 3
   },
   "file_extension": ".py",
   "mimetype": "text/x-python",
   "name": "python",
   "nbconvert_exporter": "python",
   "pygments_lexer": "ipython3",
   "version": "3.11.5"
  }
 },
 "nbformat": 4,
 "nbformat_minor": 5
}
